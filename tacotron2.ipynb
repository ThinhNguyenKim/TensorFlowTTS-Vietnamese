{
  "cells": [
    {
      "cell_type": "markdown",
      "metadata": {
        "id": "Rmwd30IS3WSV"
      },
      "source": [
        "# Download data & dependencies"
      ]
    },
    {
      "cell_type": "code",
      "execution_count": null,
      "metadata": {
        "id": "G2R24xCd18eJ"
      },
      "outputs": [],
      "source": [
        "!nvidia-smi"
      ]
    },
    {
      "cell_type": "code",
      "execution_count": null,
      "metadata": {
        "id": "a7Hq1PpY2Nbd"
      },
      "outputs": [],
      "source": [
        "!git clone https://github.com/TensorSpeech/TensorFlowTTS\n",
        "!pip install git+https://github.com/repodiac/german_transliterate.git#egg=german_transliterate\n",
        "!pip install h5py==2.10.0\n",
        "!pip install pyworld\n",
        "!pip install jamo\n",
        "!pip install unidecode\n",
        "!pip install tensorflow-addons\n",
        "!pip install pypinyin\n",
        "!pip install g2p-en\n",
        "!pip install pyopenjtalk"
      ]
    },
    {
      "cell_type": "code",
      "execution_count": null,
      "metadata": {
        "id": "SbEmg9qu2U8K"
      },
      "outputs": [],
      "source": [
        "%%capture\n",
        "%%bash\n",
        "mkdir -p /content/wavs\n",
        "cd /content/wavs\n",
        "gdown https://drive.google.com/uc?id=1Pe-5lKT_lZsliv2WxQDai2mjhI9ZMFlj\n",
        "unzip reinfo.zip"
      ]
    },
    {
      "cell_type": "markdown",
      "metadata": {
        "id": "pHfE_xTU3VyP"
      },
      "source": [
        "# Preprocess"
      ]
    },
    {
      "cell_type": "code",
      "execution_count": null,
      "metadata": {
        "id": "zygoM8bG3dZ0"
      },
      "outputs": [],
      "source": [
        "!python /content/TensorFlowTTS/tensorflow_tts/bin/preprocess.py --rootdir /content/synpaflex --outdir /content/dump_synpaflex --config /content/TensorFlowTTS/preprocess/synpaflex_preprocess.yaml --dataset synpaflex"
      ]
    },
    {
      "cell_type": "code",
      "execution_count": null,
      "metadata": {
        "id": "7Mpi7pIR3hVC"
      },
      "outputs": [],
      "source": [
        "!python /content/TensorFlowTTS/tensorflow_tts/bin/preprocess.py --rootdir /content/dump_synpaflex --outdir /content/dump_synpaflex --config /content/TensorFlowTTS/preprocess/synpaflex_preprocess.yaml --dataset synpaflex"
      ]
    },
    {
      "cell_type": "markdown",
      "metadata": {
        "id": "HNzfJ7sC4_7C"
      },
      "source": [
        "# Train"
      ]
    },
    {
      "cell_type": "code",
      "execution_count": null,
      "metadata": {
        "colab": {
          "background_save": true
        },
        "id": "GFRFNTtH4-90"
      },
      "outputs": [],
      "source": [
        "!CUDA_VISIBLE_DEVICES=0 python /content/TensorFlowTTS/examples/tacotron2/train_tacotron2.py \\\n",
        "  --train-dir /content/dump_synpaflex/train/ \\\n",
        "  --dev-dir /content/dump_synpaflex/valid/ \\\n",
        "  --outdir /content/drive/MyDrive/exp/train.tacotron2.v1/ \\\n",
        "  --config /content/TensorFlowTTS/examples/tacotron2/conf/tacotron2.v1.yaml \\\n",
        "  --use-norm 1 \\\n",
        "  --mixed_precision 0 \\\n",
        "  --resume \"/content/drive/MyDrive/exp/train.tacotron2.v1/checkpoints/ckpt-1.index\""
      ]
    },
    {
      "cell_type": "markdown",
      "metadata": {},
      "source": [
        "*Reference*: the idea for this notebook can be found at https://github.com/TensorSpeech/TensorFlowTTS"
      ]
    }
  ],
  "metadata": {
    "accelerator": "GPU",
    "colab": {
      "provenance": []
    },
    "kernelspec": {
      "display_name": "Python 3.10.5 64-bit",
      "language": "python",
      "name": "python3"
    },
    "language_info": {
      "name": "python",
      "version": "3.10.5"
    },
    "vscode": {
      "interpreter": {
        "hash": "369f2c481f4da34e4445cda3fffd2e751bd1c4d706f27375911949ba6bb62e1c"
      }
    }
  },
  "nbformat": 4,
  "nbformat_minor": 0
}
