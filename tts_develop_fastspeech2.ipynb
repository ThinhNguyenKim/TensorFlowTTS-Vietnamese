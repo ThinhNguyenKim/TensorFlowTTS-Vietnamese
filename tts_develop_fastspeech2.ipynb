{
  "cells": [
    {
      "cell_type": "markdown",
      "metadata": {
        "id": "AMFecFlvzvqY"
      },
      "source": [
        "# Download dataset and dependencies"
      ]
    },
    {
      "cell_type": "code",
      "execution_count": null,
      "metadata": {
        "id": "aDPqOxU5OPN3"
      },
      "outputs": [],
      "source": [
        "!nvidia-smi"
      ]
    },
    {
      "cell_type": "code",
      "execution_count": null,
      "metadata": {
        "id": "LDofjh1cOVvg"
      },
      "outputs": [],
      "source": [
        "!git clone https://github.com/TensorSpeech/TensorFlowTTS\n",
        "!pip install git+https://github.com/repodiac/german_transliterate.git#egg=german_transliterate\n",
        "!pip install h5py==2.10.0\n",
        "!pip install pyworld\n",
        "!pip install jamo\n",
        "!pip install unidecode\n",
        "!pip install tensorflow-addons\n",
        "!pip install pypinyin\n",
        "!pip install g2p-en\n",
        "!pip install pyopenjtalk"
      ]
    },
    {
      "cell_type": "code",
      "execution_count": null,
      "metadata": {
        "id": "uvpb2HgNOY5r"
      },
      "outputs": [],
      "source": [
        "%%capture\n",
        "%%bash\n",
        "mkdir -p /content/wavs\n",
        "cd /content/wavs\n",
        "gdown https://drive.google.com/uc?id=1Pe-5lKT_lZsliv2WxQDai2mjhI9ZMFlj\n",
        "unzip reinfo.zip"
      ]
    },
    {
      "cell_type": "markdown",
      "metadata": {
        "id": "hSA02D5AObPD"
      },
      "source": [
        "# Preprocess dataset"
      ]
    },
    {
      "cell_type": "code",
      "execution_count": null,
      "metadata": {
        "colab": {
          "base_uri": "https://localhost:8080/"
        },
        "id": "iTNXHzH_4b3A",
        "outputId": "eb557367-1407-4ff6-d4c0-fbf7c9b57c24"
      },
      "outputs": [
        {
          "name": "stdout",
          "output_type": "stream",
          "text": [
            "[Preprocessing train]: 100% 14188/14188 [36:14<00:00,  6.53it/s]\n",
            "[Preprocessing valid]: 100% 747/747 [01:50<00:00,  6.76it/s]\n"
          ]
        }
      ],
      "source": [
        "!python /content/TensorFlowTTS/tensorflow_tts/bin/preprocess.py --rootdir /content/synpaflex --outdir /content/dump_synpaflex --config /content/TensorFlowTTS/preprocess/synpaflex_preprocess.yaml --dataset synpaflex"
      ]
    },
    {
      "cell_type": "code",
      "execution_count": null,
      "metadata": {
        "colab": {
          "base_uri": "https://localhost:8080/"
        },
        "id": "pyF5uOjq68NF",
        "outputId": "785b6f97-c8a8-45b2-e638-7c5fe826496d"
      },
      "outputs": [
        {
          "name": "stdout",
          "output_type": "stream",
          "text": [
            "[Normalizing]: 100% 14935/14935 [00:22<00:00, 678.03it/s]\n"
          ]
        }
      ],
      "source": [
        "!python /content/TensorFlowTTS/tensorflow_tts/bin/preprocess.py --rootdir /content/dump_synpaflex --outdir /content/dump_synpaflex --config /content/TensorFlowTTS/preprocess/synpaflex_preprocess.yaml --dataset synpaflex"
      ]
    },
    {
      "cell_type": "markdown",
      "metadata": {
        "id": "M2uw-xJ-ZCK9"
      },
      "source": [
        "# Extract duration"
      ]
    },
    {
      "cell_type": "code",
      "execution_count": null,
      "metadata": {
        "colab": {
          "base_uri": "https://localhost:8080/"
        },
        "id": "JAgN68o0YUQI",
        "outputId": "5b32b5fb-3439-4164-8e04-0dffdd95b722"
      },
      "outputs": [
        {
          "name": "stdout",
          "output_type": "stream",
          "text": [
            "2022-09-29 01:04:52.699459: W tensorflow/core/common_runtime/gpu/gpu_bfc_allocator.cc:39] Overriding allow_growth setting because the TF_FORCE_GPU_ALLOW_GROWTH environment variable is set. Original config value was 0.\n",
            "2022-09-29 01:05:05.326288: W tensorflow/core/framework/cpu_allocator_impl.cc:82] Allocation of 16777216 exceeds 10% of free system memory.\n",
            "2022-09-29 01:05:05.339282: W tensorflow/core/framework/cpu_allocator_impl.cc:82] Allocation of 16777216 exceeds 10% of free system memory.\n",
            "2022-09-29 01:05:06.452386: W tensorflow/core/framework/cpu_allocator_impl.cc:82] Allocation of 16777216 exceeds 10% of free system memory.\n",
            "2022-09-29 01:05:06.455941: W tensorflow/core/framework/cpu_allocator_impl.cc:82] Allocation of 16777216 exceeds 10% of free system memory.\n",
            "[Extract Duration]: 444it [19:08,  2.59s/it]\n"
          ]
        }
      ],
      "source": [
        "# For training\n",
        "!CUDA_VISIBLE_DEVICES=0 python /content/TensorFlowTTS/examples/tacotron2/extract_duration.py \\\n",
        "  --rootdir /content/dump_synpaflex/train/ \\\n",
        "  --outdir /content/dump_synpaflex/train/durations/ \\\n",
        "  --checkpoint /content/drive/MyDrive/exp/train.tacotron2.v1/checkpoints/model-65000.h5 \\\n",
        "  --use-norm 1 \\\n",
        "  --config /content/drive/MyDrive/exp/train.tacotron2.v1/config.yml \\\n",
        "  --batch-size 32"
      ]
    },
    {
      "cell_type": "code",
      "execution_count": null,
      "metadata": {
        "colab": {
          "base_uri": "https://localhost:8080/"
        },
        "id": "C9N6e_DhY0LE",
        "outputId": "35254c37-8711-4cca-cd3e-f0e0a886d73d"
      },
      "outputs": [
        {
          "name": "stdout",
          "output_type": "stream",
          "text": [
            "2022-09-29 01:24:36.195913: W tensorflow/core/common_runtime/gpu/gpu_bfc_allocator.cc:39] Overriding allow_growth setting because the TF_FORCE_GPU_ALLOW_GROWTH environment variable is set. Original config value was 0.\n",
            "[Extract Duration]: 24it [01:05,  2.75s/it]\n"
          ]
        }
      ],
      "source": [
        "# For validating\n",
        "!CUDA_VISIBLE_DEVICES=0 python /content/TensorFlowTTS/examples/tacotron2/extract_duration.py \\\n",
        "  --rootdir /content/dump_synpaflex/valid/ \\\n",
        "  --outdir /content/dump_synpaflex/valid/durations/ \\\n",
        "  --checkpoint /content/drive/MyDrive/exp/train.tacotron2.v1/checkpoints/model-65000.h5 \\\n",
        "  --use-norm 1 \\\n",
        "  --config /content/drive/MyDrive/exp/train.tacotron2.v1/config.yml \\\n",
        "  --batch-size 32"
      ]
    },
    {
      "cell_type": "markdown",
      "metadata": {
        "id": "oAB9wOzkZUGs"
      },
      "source": [
        "# Train"
      ]
    },
    {
      "cell_type": "code",
      "execution_count": null,
      "metadata": {
        "id": "PNL2FgU8KDxv"
      },
      "outputs": [],
      "source": [
        "!CUDA_VISIBLE_DEVICES=0 python /content/TensorFlowTTS/examples/fastspeech2/train_fastspeech2.py \\\n",
        "  --train-dir /content/dump_synpaflex/train/ \\\n",
        "  --dev-dir /content/dump_synpaflex/valid/ \\\n",
        "  --outdir /content/drive/MyDrive/exp/train.fastspeech2.v1/ \\\n",
        "  --config /content/TensorFlowTTS/examples/fastspeech2/conf/fastspeech2.v1.yaml \\\n",
        "  --use-norm 1 \\\n",
        "  --f0-stat /content/dump_synpaflex/stats_f0.npy \\\n",
        "  --energy-stat /content/dump_synpaflex/stats_energy.npy \\\n",
        "  --mixed_precision 1 \\\n",
        "  --resume \"/content/drive/MyDrive/exp/train.fastspeech2.v1/checkpoints/ckpt-1.index\""
      ]
    }
  ],
  "metadata": {
    "accelerator": "GPU",
    "colab": {
      "collapsed_sections": [
        "2CWcSq1IHRe5",
        "1dSU6N9iHV_i",
        "oHP3EvOMX0cB"
      ],
      "provenance": []
    },
    "gpuClass": "standard",
    "kernelspec": {
      "display_name": "Python 3",
      "name": "python3"
    },
    "language_info": {
      "name": "python"
    }
  },
  "nbformat": 4,
  "nbformat_minor": 0
}
