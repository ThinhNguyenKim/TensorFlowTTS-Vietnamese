{
 "cells": [
  {
   "cell_type": "markdown",
   "metadata": {},
   "source": [
    "# Dependencies"
   ]
  },
  {
   "cell_type": "code",
   "execution_count": null,
   "metadata": {},
   "outputs": [],
   "source": [
    "!pip install tensorflowjs"
   ]
  },
  {
   "cell_type": "code",
   "execution_count": null,
   "metadata": {},
   "outputs": [],
   "source": [
    "!git clone -q https://github.com/sudo-carson/TensorFlowTTS.git\n",
    "!pip install -q tensorflow==2.6 git+https://github.com/repodiac/german_transliterate /content/TensorFlowTTS/"
   ]
  },
  {
   "cell_type": "code",
   "execution_count": null,
   "metadata": {},
   "outputs": [],
   "source": [
    "!pip install --upgrade tensorflow-estimator==2.6.0"
   ]
  },
  {
   "cell_type": "code",
   "execution_count": null,
   "metadata": {},
   "outputs": [],
   "source": [
    "!pip install keras==2.6.0"
   ]
  },
  {
   "cell_type": "markdown",
   "metadata": {},
   "source": [
    "*Note: restart kernel before execute code cells below.*"
   ]
  },
  {
   "cell_type": "markdown",
   "metadata": {},
   "source": [
    "# Convert Text to Mel model (Fastspeech2)"
   ]
  },
  {
   "cell_type": "code",
   "execution_count": null,
   "metadata": {},
   "outputs": [],
   "source": [
    "from tensorflow_tts.inference import TFAutoModel\n",
    "from tensorflow_tts.inference import AutoConfig\n",
    "from tensorflow_tts.inference import AutoProcessor"
   ]
  },
  {
   "cell_type": "code",
   "execution_count": null,
   "metadata": {},
   "outputs": [],
   "source": [
    "config = AutoConfig.from_pretrained('./config.yml')\n",
    "fastspeech2 = TFAutoModel.from_pretrained(config=config,\n",
    "                                          pretrained_path='./model.h5',\n",
    "                                          name='fastspeech2')"
   ]
  },
  {
   "cell_type": "code",
   "execution_count": null,
   "metadata": {},
   "outputs": [],
   "source": [
    "tf.saved_model.save(fastspeech2, \"/content/fastspeech2\", signatures=fastspeech2.inference)"
   ]
  },
  {
   "cell_type": "code",
   "execution_count": null,
   "metadata": {},
   "outputs": [],
   "source": [
    "!tensorflowjs_converter \\\n",
    "    --input_format=tf_saved_model \\\n",
    "    --output_format=tfjs_graph_model \\\n",
    "    --signature_name=serving_default \\\n",
    "    --saved_model_tags=serve \\\n",
    "    /content/fastspeech2 \\\n",
    "    /content/drive/MyDrive/exp/fastspeech2_vi_tfjs # change this to the directory that you want to save the tfjs model"
   ]
  },
  {
   "cell_type": "markdown",
   "metadata": {},
   "source": [
    "# Convert Mel to Wave model (MB-MelGAN)"
   ]
  },
  {
   "cell_type": "code",
   "execution_count": null,
   "metadata": {},
   "outputs": [],
   "source": [
    "config = AutoConfig.from_pretrained('./config.yml')\n",
    "mb_melgan = TFAutoModel.from_pretrained(config=config,\n",
    "                                        pretrained_path='./model.h5',\n",
    "                                        name='mb_melgan')"
   ]
  },
  {
   "cell_type": "code",
   "execution_count": null,
   "metadata": {},
   "outputs": [],
   "source": [
    "tf.saved_model.save(mb_melgan, \"/content/mb_melgan\", signatures=mb_melgan.inference)"
   ]
  },
  {
   "cell_type": "code",
   "execution_count": null,
   "metadata": {},
   "outputs": [],
   "source": [
    "!tensorflowjs_converter \\\n",
    "    --input_format=tf_saved_model \\\n",
    "    --output_format=tfjs_graph_model \\\n",
    "    --signature_name=serving_default \\\n",
    "    --saved_model_tags=serve \\\n",
    "    /content/mb_melgan \\\n",
    "    /content/drive/MyDrive/mb_melgan_tfjs # change this to the directory that you want to save the tfjs model"
   ]
  },
  {
   "cell_type": "markdown",
   "metadata": {},
   "source": [
    "# Inference\n",
    "See [this](https://github.com/ThinhNguyenKim/VietTTS-tfjs) repo to refer how to inference these tfjs model with Js"
   ]
  }
 ],
 "metadata": {
  "kernelspec": {
   "display_name": "Python 3.10.5 64-bit",
   "language": "python",
   "name": "python3"
  },
  "language_info": {
   "name": "python",
   "version": "3.10.5"
  },
  "orig_nbformat": 4,
  "vscode": {
   "interpreter": {
    "hash": "369f2c481f4da34e4445cda3fffd2e751bd1c4d706f27375911949ba6bb62e1c"
   }
  }
 },
 "nbformat": 4,
 "nbformat_minor": 2
}
