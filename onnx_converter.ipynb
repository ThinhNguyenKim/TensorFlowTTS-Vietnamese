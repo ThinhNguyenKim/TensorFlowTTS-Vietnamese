{
 "cells": [
  {
   "cell_type": "code",
   "execution_count": null,
   "metadata": {},
   "outputs": [],
   "source": [
    "!git clone -q https://github.com/sudo-carson/TensorFlowTTS.git\n",
    "!pip install -q git+https://github.com/repodiac/german_transliterate /content/TensorFlowTTS\n",
    "!pip install keras==2.6.0"
   ]
  },
  {
   "cell_type": "code",
   "execution_count": null,
   "metadata": {},
   "outputs": [],
   "source": [
    "import tensorflow as tf"
   ]
  },
  {
   "cell_type": "code",
   "execution_count": null,
   "metadata": {},
   "outputs": [],
   "source": [
    "!pip install onnxmltools\n",
    "!pip install onnx\n",
    "!pip install tf2onnx\n",
    "# !pip install onnxruntime # for CPU\n",
    "!pip install onnxruntime-gpu # for GPU"
   ]
  },
  {
   "cell_type": "code",
   "execution_count": null,
   "metadata": {},
   "outputs": [],
   "source": [
    "import numpy as np\n",
    "import soundfile as sf\n",
    "import yaml\n",
    "import IPython.display as ipd\n",
    "\n",
    "import tensorflow as tf\n",
    "\n",
    "from tensorflow_tts.inference import AutoProcessor\n",
    "from tensorflow_tts.inference import TFAutoModel\n",
    "from tensorflow_tts.inference import AutoConfig\n",
    "\n",
    "\n",
    "mb_melgan = TFAutoModel.from_pretrained(\"tensorspeech/tts-mb_melgan-ljspeech-en\")\n",
    "processor = AutoProcessor.from_pretrained(\n",
    "    pretrained_path=\"processor.json\")\n",
    "config = AutoConfig.from_pretrained(\"config.yml\")\n",
    "fastspeech2 = TFAutoModel.from_pretrained(\n",
    "    config=config, \n",
    "    pretrained_path=\"model.h5\"\n",
    ")"
   ]
  },
  {
   "cell_type": "code",
   "execution_count": null,
   "metadata": {},
   "outputs": [],
   "source": [
    "import tf2onnx\n",
    "import onnxruntime as rt\n",
    "print(rt.get_device())\n",
    "\n",
    "# https://github.com/onnx/tensorflow-onnx/blob/main/tutorials/keras-resnet50.ipynb\n",
    "\n",
    "spec = (tf.TensorSpec((1, None), tf.int32, name=\"input_ids\"), \n",
    "        tf.TensorSpec((1), tf.int32, name=\"speaker_ids\"),\n",
    "        tf.TensorSpec((1), tf.float32, name=\"speed_ratios\"),\n",
    "        tf.TensorSpec((1), tf.float32, name=\"f0_ratios\"),\n",
    "        tf.TensorSpec((1), tf.float32, name='energy_ratios'))\n",
    "\n",
    "# output_path = \"onnx_model/fast2speech.onnx\" # for CPU\n",
    "output_path = \"onnx_model/fast2speech.cuda.onnx\" # for GPU\n",
    "\n",
    "model_proto, _ = tf2onnx.convert.from_keras(fastspeech2, input_signature=spec, opset=13, output_path=output_path)\n",
    "output_names = [n.name for n in model_proto.graph.output]"
   ]
  }
 ],
 "metadata": {
  "language_info": {
   "name": "python"
  },
  "orig_nbformat": 4
 },
 "nbformat": 4,
 "nbformat_minor": 2
}
